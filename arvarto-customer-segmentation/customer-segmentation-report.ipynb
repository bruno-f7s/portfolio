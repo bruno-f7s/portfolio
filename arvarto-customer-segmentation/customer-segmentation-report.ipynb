{
 "cells": [
  {
   "cell_type": "markdown",
   "id": "66676578",
   "metadata": {},
   "source": [
    "# Project Introduction - Customer Segmentation\n",
    "The goal of this project is to analyze demographics data for customers of a mail-order sales company in Germany, comparing it against demographics information for the general population with the aim of understanding which segment of the population the company should aim for in its next campaign. \n",
    "\n",
    "The project is divided into __two main parts__:\n",
    "1. In the first part the customers will be segmented using a __unsupervised learning approach__ and using the customer's data against the general population's data. Not only is the goal to understand which groups of customers are more interesting for the campaign but also to select the most important features.\n",
    "2. Using the information gained a __supervised learning algorithm__ will be used for a classification task to predict which recipients are most likely to become a customer for the mail-order company. "
   ]
  },
  {
   "cell_type": "code",
   "execution_count": 1,
   "id": "1b578b55",
   "metadata": {},
   "outputs": [],
   "source": [
    "# import libraries here; add more as necessary\n",
    "import numpy as np\n",
    "import pandas as pd\n",
    "import matplotlib.pyplot as plt\n",
    "import seaborn as sns\n",
    "\n",
    "# magic word for producing visualizations in notebook\n",
    "%matplotlib inline"
   ]
  },
  {
   "cell_type": "markdown",
   "id": "2ebb5017",
   "metadata": {},
   "source": [
    "# 1. Load and Understand the Data\n",
    "\n",
    "There are four data files associated with this project:\n",
    "\n",
    "- `Udacity_AZDIAS_052018.csv`: Demographics data for the general population of Germany; 891 211 persons (rows) x 366 features (columns).\n",
    "- `Udacity_CUSTOMERS_052018.csv`: Demographics data for customers of a mail-order company; 191 652 persons (rows) x 369 features (columns).\n",
    "- `Udacity_MAILOUT_052018_TRAIN.csv`: Demographics data for individuals who were targets of a marketing campaign; 42 982 persons (rows) x 367 (columns).\n",
    "- `Udacity_MAILOUT_052018_TEST.csv`: Demographics data for individuals who were targets of a marketing campaign; 42 833 persons (rows) x 366 (columns).\n",
    "\n",
    "Each row of the demographics files represents a single person, but also includes information outside of individuals, including information about their household, building, and neighborhood. \n",
    "\n",
    "The \"CUSTOMERS\" file contains three extra columns ('CUSTOMER_GROUP', 'ONLINE_PURCHASE', and 'PRODUCT_GROUP'), which provide broad information about the customers depicted in the file. Otherwise, all of the remaining columns are the same between the four data files. \n",
    "\n",
    "For more information about the columns depicted in the files, you can refer to two Excel spreadsheets provided in the workspace:\n",
    "- The file [DIAS Information Levels - Attributes 2017.xlsx](https://github.com/bruno-f7s/portfolio/blob/main/arvarto-customer-segmentation/data-dictionary/DIAS%20Attributes%20-%20Values%202017.xlsx) is a top-level list of attributes and descriptions, organized by informational category. \n",
    "- The file [DIAS Attributes - Values 2017.xlsx](https://github.com/bruno-f7s/portfolio/blob/main/arvarto-customer-segmentation/data-dictionary/DIAS%20Information%20Levels%20-%20Attributes%202017.xlsx) is a detailed mapping of data values for each feature in alphabetical order."
   ]
  },
  {
   "cell_type": "code",
   "execution_count": 4,
   "id": "97a29e8f",
   "metadata": {},
   "outputs": [],
   "source": [
    "# load in the data\n",
    "customers_df = pd.read_csv('data\\\\Udacity_CUSTOMERS_052018.csv', sep=';', low_memory=False)\n",
    "population_df = pd.read_csv('data\\\\Udacity_AZDIAS_052018.csv', sep=';', low_memory=False)"
   ]
  },
  {
   "cell_type": "code",
   "execution_count": null,
   "id": "f80223a9",
   "metadata": {},
   "outputs": [],
   "source": []
  }
 ],
 "metadata": {
  "kernelspec": {
   "display_name": "Python 3",
   "language": "python",
   "name": "python3"
  },
  "language_info": {
   "codemirror_mode": {
    "name": "ipython",
    "version": 3
   },
   "file_extension": ".py",
   "mimetype": "text/x-python",
   "name": "python",
   "nbconvert_exporter": "python",
   "pygments_lexer": "ipython3",
   "version": "3.8.8"
  }
 },
 "nbformat": 4,
 "nbformat_minor": 5
}

{
 "cells": [
  {
   "cell_type": "markdown",
   "id": "66676578",
   "metadata": {},
   "source": [
    "# Project Introduction - Customer Segmentation (Part 2 & 3)\n",
    "The goal of this project is to analyze demographics data for customers of a mail-order sales company in Germany, comparing it against demographics information for the general population with the aim of understanding which segment of the population the company should aim for in its next mail campaign. \n",
    "\n",
    "The project is divided into __three main parts__:\n",
    "1. The first part will be decicated to the data preparation: This data is high-dimensional and has a high degree of missing values, therefore it is important to understand and clean the data.\n",
    "2. In this section the customers will be segmented using a __unsupervised learning approach__ and using the customer's data against the general population's data. Not only is the goal to understand which groups of customers are more interesting for the campaign but also to select the most important features.\n",
    "3. Using the information gained a __supervised learning algorithm__ will be used for a classification task to predict which recipients are most likely to become a customer for the mail-order company.\n",
    "\n",
    "__Note__: This notebook handles part 2 and 3. The first part of the data cleaning process can be found in this notebook [here](https://github.com/bruno-f7s/portfolio/blob/main/arvarto-customer-segmentation/01-data-cleaning.ipynb)."
   ]
  },
  {
   "cell_type": "code",
   "execution_count": 1,
   "id": "1b578b55",
   "metadata": {},
   "outputs": [],
   "source": [
    "# import libraries\n",
    "import numpy as np\n",
    "import pandas as pd\n",
    "import matplotlib.pyplot as plt\n",
    "import seaborn as sns\n",
    "\n",
    "\n",
    "# magic word for producing visualizations in notebook\n",
    "%matplotlib inline\n",
    "\n",
    "# configurations\n",
    "pd.options.display.max_columns = 500\n",
    "pd.options.display.max_rows = 500\n",
    "pd.set_option('display.max_colwidth', None)"
   ]
  },
  {
   "cell_type": "markdown",
   "id": "2ebb5017",
   "metadata": {},
   "source": [
    "# PART 1: Customer Segmentation (Unsupervised Learning)"
   ]
  },
  {
   "cell_type": "code",
   "execution_count": null,
   "id": "834943c9",
   "metadata": {},
   "outputs": [],
   "source": [
    "# Load the cleaned data for the customer segmentation part\n",
    "customers_df = pd.read_csv('data\\\\Cleaned_Udacity_CUSTOMERS_052018.csv', sep=';', low_memory=False)\n",
    "population_df = pd.read_csv('data\\\\Cleaned_Udacity_AZDIAS_052018.csv', sep=';', low_memory=False)"
   ]
  },
  {
   "cell_type": "code",
   "execution_count": null,
   "id": "07636981",
   "metadata": {},
   "outputs": [],
   "source": []
  },
  {
   "cell_type": "markdown",
   "id": "d871e62c",
   "metadata": {},
   "source": [
    "# PART 2: Customer Prediction (Supervised Learning)"
   ]
  },
  {
   "cell_type": "code",
   "execution_count": null,
   "id": "91e708fe",
   "metadata": {},
   "outputs": [],
   "source": [
    "# Load data for the customer prediction part\n",
    "train_df = pd.read_csv('data\\\\Cleaned_Udacity_MAILOUT_052018_TRAIN.csv', sep=';', low_memory=False)\n",
    "test_df = pd.read_csv('data\\\\Cleaned_Udacity_MAILOUT_052018_TEST.csv', sep=';', low_memory=False)"
   ]
  }
 ],
 "metadata": {
  "kernelspec": {
   "display_name": "Python 3",
   "language": "python",
   "name": "python3"
  },
  "language_info": {
   "codemirror_mode": {
    "name": "ipython",
    "version": 3
   },
   "file_extension": ".py",
   "mimetype": "text/x-python",
   "name": "python",
   "nbconvert_exporter": "python",
   "pygments_lexer": "ipython3",
   "version": "3.8.8"
  }
 },
 "nbformat": 4,
 "nbformat_minor": 5
}

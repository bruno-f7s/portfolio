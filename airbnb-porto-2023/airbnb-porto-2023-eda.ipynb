{
 "cells": [
  {
   "cell_type": "markdown",
   "id": "94bd1441",
   "metadata": {},
   "source": [
    "<a id='top'></a>\n",
    "<h1>Table of Contents</h1>\n",
    "<ol>\n",
    "    <li><a href=\"#section1\">Project Introduction</a></li>\n",
    "    <li><a href=\"#section2\">Section 2</a></li>\n",
    "    <li><a href=\"#section3\">Section 3</a></li>\n",
    "</ol>"
   ]
  },
  {
   "cell_type": "markdown",
   "id": "1f9b0133",
   "metadata": {},
   "source": [
    "<a id='section1'></a>\n",
    "# 1. Project Introduction"
   ]
  },
  {
   "cell_type": "code",
   "execution_count": 1,
   "id": "83bf6763",
   "metadata": {},
   "outputs": [],
   "source": [
    "#IMPORTS\n",
    "import numpy as np\n",
    "import pandas as pd\n",
    "from datetime import datetime\n",
    "import seaborn as sns\n",
    "import matplotlib.pyplot as plt\n",
    "\n",
    "#CONFIGS\n",
    "pd.options.display.max_columns = 100"
   ]
  },
  {
   "cell_type": "markdown",
   "id": "fe8eea63",
   "metadata": {},
   "source": [
    "# Data accessment and cleaning\n",
    "A data dictionary of the listings.csv dataset can be found [here](https://docs.google.com/spreadsheets/d/1iWCNJcSutYqpULSQHlNyGInUvHg2BoUGoNRIGa6Szc4/edit#gid=1322284596)."
   ]
  },
  {
   "cell_type": "code",
   "execution_count": 2,
   "id": "e640f15a",
   "metadata": {},
   "outputs": [],
   "source": [
    "# import listings files\n",
    "listings_df_202303 = pd.read_csv(\"input-data\\\\202303-listings.csv\")\n",
    "listings_df_202212 = pd.read_csv(\"input-data\\\\202212-listings.csv\")\n",
    "listings_df_202209 = pd.read_csv(\"input-data\\\\202209-listings.csv\")\n",
    "listings_df_202206 = pd.read_csv(\"input-data\\\\202206-listings.csv\")\n",
    "\n",
    "listings_df_202303[\"file_name\"] = \"202303-listings.csv\"\n",
    "listings_df_202212[\"file_name\"] = \"202212-listings.csv\"\n",
    "listings_df_202209[\"file_name\"] = \"202209-listings.csv\"\n",
    "listings_df_202206[\"file_name\"] = \"202206-listings.csv\"\n",
    "\n",
    "listings_df_ls = [listings_df_202303, listings_df_202212, listings_df_202209, listings_df_202206]"
   ]
  },
  {
   "cell_type": "markdown",
   "id": "b7d4f576",
   "metadata": {},
   "source": [
    "## First cleaning\n",
    "### Columns removal\n",
    "In this step I will remove columns which do not include relevant information for this project. I considered the following types of columns as not relevant:\n",
    "1. It contains meta information about the listing like URL or description (this one could be important if NLP analysis was in scope);\n",
    "2. Technical columns like scrape ID or date;\n",
    "3. Personal data like name of the host;\n",
    "4. Host-related data, since it is not relevant for the purpose of this analysis;\n",
    "5. Columns with a high number of nulls;\n",
    "6. Other columns which I considered too specific for the purpose of this analysis."
   ]
  },
  {
   "cell_type": "code",
   "execution_count": 3,
   "id": "e800c83b",
   "metadata": {},
   "outputs": [
    {
     "name": "stdout",
     "output_type": "stream",
     "text": [
      "<class 'pandas.core.frame.DataFrame'>\n",
      "RangeIndex: 12410 entries, 0 to 12409\n",
      "Data columns (total 76 columns):\n",
      " #   Column                                        Non-Null Count  Dtype  \n",
      "---  ------                                        --------------  -----  \n",
      " 0   id                                            12410 non-null  int64  \n",
      " 1   listing_url                                   12410 non-null  object \n",
      " 2   scrape_id                                     12410 non-null  int64  \n",
      " 3   last_scraped                                  12410 non-null  object \n",
      " 4   source                                        12410 non-null  object \n",
      " 5   name                                          12410 non-null  object \n",
      " 6   description                                   12405 non-null  object \n",
      " 7   neighborhood_overview                         7608 non-null   object \n",
      " 8   picture_url                                   12410 non-null  object \n",
      " 9   host_id                                       12410 non-null  int64  \n",
      " 10  host_url                                      12410 non-null  object \n",
      " 11  host_name                                     12409 non-null  object \n",
      " 12  host_since                                    12409 non-null  object \n",
      " 13  host_location                                 8371 non-null   object \n",
      " 14  host_about                                    6314 non-null   object \n",
      " 15  host_response_time                            10406 non-null  object \n",
      " 16  host_response_rate                            10406 non-null  object \n",
      " 17  host_acceptance_rate                          11023 non-null  object \n",
      " 18  host_is_superhost                             12410 non-null  object \n",
      " 19  host_thumbnail_url                            12409 non-null  object \n",
      " 20  host_picture_url                              12409 non-null  object \n",
      " 21  host_neighbourhood                            571 non-null    object \n",
      " 22  host_listings_count                           12409 non-null  float64\n",
      " 23  host_total_listings_count                     12409 non-null  float64\n",
      " 24  host_verifications                            12410 non-null  object \n",
      " 25  host_has_profile_pic                          12409 non-null  object \n",
      " 26  host_identity_verified                        12409 non-null  object \n",
      " 27  neighbourhood                                 7608 non-null   object \n",
      " 28  neighbourhood_cleansed                        12410 non-null  object \n",
      " 29  neighbourhood_group_cleansed                  12410 non-null  object \n",
      " 30  latitude                                      12410 non-null  float64\n",
      " 31  longitude                                     12410 non-null  float64\n",
      " 32  property_type                                 12410 non-null  object \n",
      " 33  room_type                                     12410 non-null  object \n",
      " 34  accommodates                                  12410 non-null  int64  \n",
      " 35  bathrooms                                     0 non-null      float64\n",
      " 36  bathrooms_text                                12396 non-null  object \n",
      " 37  bedrooms                                      11116 non-null  float64\n",
      " 38  beds                                          12323 non-null  float64\n",
      " 39  amenities                                     12410 non-null  object \n",
      " 40  price                                         12410 non-null  object \n",
      " 41  minimum_nights                                12410 non-null  int64  \n",
      " 42  maximum_nights                                12410 non-null  int64  \n",
      " 43  minimum_minimum_nights                        12410 non-null  int64  \n",
      " 44  maximum_minimum_nights                        12410 non-null  int64  \n",
      " 45  minimum_maximum_nights                        12410 non-null  int64  \n",
      " 46  maximum_maximum_nights                        12410 non-null  int64  \n",
      " 47  minimum_nights_avg_ntm                        12410 non-null  float64\n",
      " 48  maximum_nights_avg_ntm                        12410 non-null  float64\n",
      " 49  calendar_updated                              0 non-null      float64\n",
      " 50  has_availability                              12410 non-null  object \n",
      " 51  availability_30                               12410 non-null  int64  \n",
      " 52  availability_60                               12410 non-null  int64  \n",
      " 53  availability_90                               12410 non-null  int64  \n",
      " 54  availability_365                              12410 non-null  int64  \n",
      " 55  calendar_last_scraped                         12410 non-null  object \n",
      " 56  number_of_reviews                             12410 non-null  int64  \n",
      " 57  number_of_reviews_ltm                         12410 non-null  int64  \n",
      " 58  number_of_reviews_l30d                        12410 non-null  int64  \n",
      " 59  first_review                                  10817 non-null  object \n",
      " 60  last_review                                   10817 non-null  object \n",
      " 61  review_scores_rating                          10817 non-null  float64\n",
      " 62  review_scores_accuracy                        10789 non-null  float64\n",
      " 63  review_scores_cleanliness                     10789 non-null  float64\n",
      " 64  review_scores_checkin                         10788 non-null  float64\n",
      " 65  review_scores_communication                   10789 non-null  float64\n",
      " 66  review_scores_location                        10788 non-null  float64\n",
      " 67  review_scores_value                           10788 non-null  float64\n",
      " 68  license                                       11774 non-null  object \n",
      " 69  instant_bookable                              12410 non-null  object \n",
      " 70  calculated_host_listings_count                12410 non-null  int64  \n",
      " 71  calculated_host_listings_count_entire_homes   12410 non-null  int64  \n",
      " 72  calculated_host_listings_count_private_rooms  12410 non-null  int64  \n",
      " 73  calculated_host_listings_count_shared_rooms   12410 non-null  int64  \n",
      " 74  reviews_per_month                             10817 non-null  float64\n",
      " 75  file_name                                     12410 non-null  object \n",
      "dtypes: float64(18), int64(21), object(37)\n",
      "memory usage: 7.2+ MB\n"
     ]
    }
   ],
   "source": [
    "listings_df_ls[0].info()"
   ]
  },
  {
   "cell_type": "code",
   "execution_count": 4,
   "id": "6c80d480",
   "metadata": {},
   "outputs": [],
   "source": [
    "def drop_cols(df, col_list):\n",
    "    \"\"\"\n",
    "    Description\n",
    "    -----------\n",
    "    This function drops a specified list of columns for a given pandas DataFrame. The columns in the list must do not necessarily need to exist in the DataFrame.  \n",
    "    \n",
    "    Arguments\n",
    "    ---------\n",
    "    df: pandas DataFrame\n",
    "        a pandas DataFrame from which the columns should be removed.\n",
    "\n",
    "    col_list: list\n",
    "        a list of columns to be removed from the pandas DataFrame.\n",
    "\n",
    "    Returns\n",
    "    -------\n",
    "    df: pandas DataFrame\n",
    "        a pandas DataFrame with the columns removed which were found in the list.\n",
    "    \"\"\"   \n",
    "    \n",
    "    for col in col_list:\n",
    "        if col in df.columns:\n",
    "            df = df.drop(col, axis=1)\n",
    "            \n",
    "    return df"
   ]
  },
  {
   "cell_type": "code",
   "execution_count": 5,
   "id": "924caa7c",
   "metadata": {},
   "outputs": [],
   "source": [
    "drop_col_ls = ['listing_url', 'scrape_id', 'last_scraped', 'source', 'name',\n",
    "               'description', 'neighborhood_overview', 'picture_url', 'host_url',\n",
    "               'host_name','host_since', 'host_location', 'host_about','host_response_time', \n",
    "               'host_response_rate', 'host_acceptance_rate','host_thumbnail_url', 'host_picture_url',\n",
    "               'host_neighbourhood', 'host_total_listings_count','host_verifications','host_has_profile_pic', \n",
    "               'host_listings_count', 'host_identity_verified', 'neighbourhood','bathrooms','minimum_nights',\n",
    "               'maximum_nights','minimum_minimum_nights','maximum_minimum_nights','minimum_maximum_nights',\n",
    "               'maximum_maximum_nights','minimum_nights_avg_ntm','maximum_nights_avg_ntm','calendar_updated',\n",
    "               'has_availability','availability_30','availability_60','availability_365','number_of_reviews_ltm',\n",
    "               'number_of_reviews_l30d','first_review','last_review','review_scores_accuracy',\n",
    "               'review_scores_cleanliness','review_scores_checkin','review_scores_communication',\n",
    "               'review_scores_location','review_scores_rating','instant_bookable','license',\n",
    "               'calculated_host_listings_count','calculated_host_listings_count_entire_homes', \n",
    "               'calculated_host_listings_count_private_rooms','calculated_host_listings_count_shared_rooms',\n",
    "               'reviews_per_month']\n",
    "\n",
    "# remove the columns for each DataFrame in the list\n",
    "for i in range(0, len(listings_df_ls)):\n",
    "    listings_df_ls[i] = drop_cols(listings_df_ls[i], drop_col_ls)"
   ]
  },
  {
   "cell_type": "markdown",
   "id": "90ee3cd3",
   "metadata": {},
   "source": [
    "#### <a href=\"#top\">Back to top</a>\n",
    "<a id='section1'></a>"
   ]
  },
  {
   "cell_type": "markdown",
   "id": "66512e4d",
   "metadata": {},
   "source": [
    "### Dealing with missing data"
   ]
  },
  {
   "cell_type": "code",
   "execution_count": 6,
   "id": "25fd850a",
   "metadata": {},
   "outputs": [
    {
     "name": "stdout",
     "output_type": "stream",
     "text": [
      "TABLE NAME: 202303-listings.csv\n",
      "------------------------------------------------------------\n",
      "\n",
      "id                                 0\n",
      "host_id                            0\n",
      "host_is_superhost                  0\n",
      "neighbourhood_cleansed             0\n",
      "neighbourhood_group_cleansed       0\n",
      "latitude                           0\n",
      "longitude                          0\n",
      "property_type                      0\n",
      "room_type                          0\n",
      "accommodates                       0\n",
      "bathrooms_text                    14\n",
      "bedrooms                        1294\n",
      "beds                              87\n",
      "amenities                          0\n",
      "price                              0\n",
      "availability_90                    0\n",
      "calendar_last_scraped              0\n",
      "number_of_reviews                  0\n",
      "review_scores_value             1622\n",
      "file_name                          0\n",
      "dtype: int64\n",
      "\n",
      "------------------------------------------------------------\n",
      "\n",
      "TABLE NAME: 202212-listings.csv\n",
      "------------------------------------------------------------\n",
      "\n",
      "id                                 0\n",
      "host_id                            0\n",
      "host_is_superhost                  0\n",
      "neighbourhood_cleansed             0\n",
      "neighbourhood_group_cleansed       0\n",
      "latitude                           0\n",
      "longitude                          0\n",
      "property_type                      0\n",
      "room_type                          0\n",
      "accommodates                       0\n",
      "bathrooms_text                    14\n",
      "bedrooms                        1221\n",
      "beds                              91\n",
      "amenities                          0\n",
      "price                              0\n",
      "availability_90                    0\n",
      "calendar_last_scraped              0\n",
      "number_of_reviews                  0\n",
      "review_scores_value             1329\n",
      "file_name                          0\n",
      "dtype: int64\n",
      "\n",
      "------------------------------------------------------------\n",
      "\n",
      "TABLE NAME: 202209-listings.csv\n",
      "------------------------------------------------------------\n",
      "\n",
      "id                                 0\n",
      "host_id                            0\n",
      "host_is_superhost                  0\n",
      "neighbourhood_cleansed             0\n",
      "neighbourhood_group_cleansed       0\n",
      "latitude                           0\n",
      "longitude                          0\n",
      "property_type                      0\n",
      "room_type                          0\n",
      "accommodates                       0\n",
      "bathrooms_text                    14\n",
      "bedrooms                        1176\n",
      "beds                             101\n",
      "amenities                          0\n",
      "price                              0\n",
      "availability_90                    0\n",
      "calendar_last_scraped              0\n",
      "number_of_reviews                  0\n",
      "review_scores_value             1209\n",
      "file_name                          0\n",
      "dtype: int64\n",
      "\n",
      "------------------------------------------------------------\n",
      "\n",
      "TABLE NAME: 202206-listings.csv\n",
      "------------------------------------------------------------\n",
      "\n",
      "id                                 0\n",
      "host_id                            0\n",
      "host_is_superhost                  1\n",
      "neighbourhood_cleansed             0\n",
      "neighbourhood_group_cleansed       0\n",
      "latitude                           0\n",
      "longitude                          0\n",
      "property_type                      0\n",
      "room_type                          0\n",
      "accommodates                       0\n",
      "bathrooms_text                    14\n",
      "bedrooms                        1089\n",
      "beds                             102\n",
      "amenities                          0\n",
      "price                              0\n",
      "availability_90                    0\n",
      "calendar_last_scraped              0\n",
      "number_of_reviews                  0\n",
      "review_scores_value             1438\n",
      "file_name                          0\n",
      "dtype: int64\n",
      "\n",
      "------------------------------------------------------------\n",
      "\n"
     ]
    }
   ],
   "source": [
    "# Print the number of nulls per column for each DataFrame\n",
    "for i in range(0, len(listings_df_ls)):\n",
    "    print(f\"\"\"TABLE NAME: {listings_df_ls[i][\"file_name\"].unique()[0]}\"\"\")\n",
    "    print(\"------------------------------------------------------------\\n\")\n",
    "    print(listings_df_ls[i].isnull().sum())\n",
    "    print(\"\\n------------------------------------------------------------\\n\")"
   ]
  },
  {
   "cell_type": "markdown",
   "id": "dcec40af",
   "metadata": {},
   "source": [
    "It is possible to see that list of columns with missing data is similar for each DataFrame, so the chosen approaches will be used for all of the DataFrames.\n",
    "\n",
    "For the purpose of the exploratory data analysis I decided to __address__ the following columns:\n",
    "- bedrooms\n",
    "- beds\n",
    "\n",
    "For the purpose of the exploratory data analysis I decided to __ignore__ the following columns:\n",
    "- host_is_superhost\n",
    "- bathrooms_text\n",
    "- review_scores_value"
   ]
  },
  {
   "cell_type": "markdown",
   "id": "66adf540",
   "metadata": {},
   "source": [
    "#### Procedure\n",
    "Since the column _accomodates_ is always filled I simply used the __mode__ of the available data within the column to be treated while accounting for each corresponding value inside the column _accomodates_."
   ]
  },
  {
   "cell_type": "code",
   "execution_count": 7,
   "id": "536458e7",
   "metadata": {},
   "outputs": [],
   "source": [
    "def fill_data_with_mode(df, ref_col, col_list):\n",
    "    \"\"\"\n",
    "    Description\n",
    "    -----------\n",
    "    This function fills in missing data for a given list of columns in a pandas DataFrame based on the mode available in the missing column for a particular group of values available on a specified reference column.\n",
    "    \n",
    "    Arguments\n",
    "    ---------\n",
    "    df: pandas DataFrame\n",
    "        a pandas DataFrame in which the missing data will be filled.\n",
    "        \n",
    "    ref_col: string\n",
    "        the name of the reference column, from which the value group will be used to calculate the mode.\n",
    "        \n",
    "    col_list: list\n",
    "        a list of columns with missing data.\n",
    "\n",
    "    Returns\n",
    "    -------\n",
    "    df: pandas DataFrame\n",
    "        a pandas DataFrame with the filled missing data.\n",
    "    \"\"\"   \n",
    "    \n",
    "    for col in col_list:\n",
    "        mode_per_group = df.groupby(ref_col)[col].transform(lambda x: x.mode()[0])\n",
    "        df[col] = df[col].fillna(mode_per_group)\n",
    "    \n",
    "    return df"
   ]
  },
  {
   "cell_type": "code",
   "execution_count": 8,
   "id": "8761ed21",
   "metadata": {},
   "outputs": [
    {
     "name": "stdout",
     "output_type": "stream",
     "text": [
      "Missing data in bedrooms: 0\n",
      "Missing data in bedrooms: 0\n"
     ]
    }
   ],
   "source": [
    "ref_col = \"accommodates\"\n",
    "missing_col_ls = [\"bedrooms\",\"beds\"]\n",
    "\n",
    "# fill in the missing data\n",
    "for i in range(0, len(listings_df_ls)):\n",
    "    listings_df_ls[i] = fill_data_with_mode(listings_df_ls[i],ref_col,missing_col_ls)\n",
    "\n",
    "# quality check for missing data\n",
    "print(f\"\"\"Missing data in bedrooms: {listings_df_ls[0][\"bedrooms\"].isnull().sum()}\"\"\")\n",
    "print(f\"\"\"Missing data in bedrooms: {listings_df_ls[0][\"beds\"].isnull().sum()}\"\"\")    "
   ]
  },
  {
   "cell_type": "markdown",
   "id": "db3329f7",
   "metadata": {},
   "source": [
    "#### <a href=\"#top\">Back to top</a>"
   ]
  },
  {
   "cell_type": "markdown",
   "id": "b1b7ed6a",
   "metadata": {},
   "source": [
    "### Data quality check\n",
    "Since I am going to focus the analysis of ocupancy rates baed on the column _availability_90_, I wanted to make a quick quality check to see if the data matches with the day-by-day availabiliy data in the calendar.csv for a speficic listing ID. I simply chose the first ID available: 840535633089695952."
   ]
  },
  {
   "cell_type": "code",
   "execution_count": 9,
   "id": "b06833b7",
   "metadata": {},
   "outputs": [
    {
     "data": {
      "text/html": [
       "<div>\n",
       "<style scoped>\n",
       "    .dataframe tbody tr th:only-of-type {\n",
       "        vertical-align: middle;\n",
       "    }\n",
       "\n",
       "    .dataframe tbody tr th {\n",
       "        vertical-align: top;\n",
       "    }\n",
       "\n",
       "    .dataframe thead th {\n",
       "        text-align: right;\n",
       "    }\n",
       "</style>\n",
       "<table border=\"1\" class=\"dataframe\">\n",
       "  <thead>\n",
       "    <tr style=\"text-align: right;\">\n",
       "      <th></th>\n",
       "      <th>id</th>\n",
       "      <th>availability_90</th>\n",
       "    </tr>\n",
       "  </thead>\n",
       "  <tbody>\n",
       "    <tr>\n",
       "      <th>0</th>\n",
       "      <td>840535633089695952</td>\n",
       "      <td>72</td>\n",
       "    </tr>\n",
       "  </tbody>\n",
       "</table>\n",
       "</div>"
      ],
      "text/plain": [
       "                   id  availability_90\n",
       "0  840535633089695952               72"
      ]
     },
     "execution_count": 9,
     "metadata": {},
     "output_type": "execute_result"
    }
   ],
   "source": [
    "#print 90-days' availability data in the 202303-listings.csv\n",
    "listings_df_202303[listings_df_202303[\"id\"] == 840535633089695952][[\"id\",\"availability_90\"]].head()"
   ]
  },
  {
   "cell_type": "code",
   "execution_count": 10,
   "id": "c3fa9bc1",
   "metadata": {},
   "outputs": [
    {
     "name": "stdout",
     "output_type": "stream",
     "text": [
      "The listing id 840535633089695952 was 72 days available between 2023-03-17 and 2023-06-15.\n"
     ]
    }
   ],
   "source": [
    "#import calendar data for 2023\n",
    "calendar_df_202303 = pd.read_csv(\"input-data\\\\202303-calendar.csv\")\n",
    "calendar_df_202303['date'] = pd.to_datetime(calendar_df_202303['date'])\n",
    "\n",
    "#filter the date for the listing id and the next 90 days\n",
    "start_date = min(calendar_df_202303['date']) #date of the extract\n",
    "end_date = start_date + pd.DateOffset(days=90) #90 days after\n",
    "\n",
    "id_filter = calendar_df_202303[\"listing_id\"] == 840535633089695952\n",
    "date_filter = (calendar_df_202303[\"date\"] >= start_date) & (calendar_df_202303[\"date\"] < end_date)\n",
    "combined_filter = id_filter & date_filter\n",
    "\n",
    "filtered_calendar_df_202303 = calendar_df_202303[combined_filter]\n",
    "\n",
    "nr_available_days = len(filtered_calendar_df_202303[filtered_calendar_df_202303[\"available\"] == \"t\"])\n",
    "print(f\"\"\"The listing id {str(filtered_calendar_df_202303[\"listing_id\"].unique()[0])} was {nr_available_days} days available between {str(start_date)[:10]} and {str(end_date)[:10]}.\"\"\")"
   ]
  },
  {
   "cell_type": "markdown",
   "id": "4f6d54ed",
   "metadata": {},
   "source": [
    "#### <a href=\"#top\">Back to top</a>"
   ]
  },
  {
   "cell_type": "markdown",
   "id": "0113d461",
   "metadata": {},
   "source": [
    "### Deal with categorical columns\n",
    "In this section the were checked for inconsistencies and when necessary converted into a different data type in order to facilitate analysis."
   ]
  },
  {
   "cell_type": "code",
   "execution_count": 11,
   "id": "ba20a2db",
   "metadata": {},
   "outputs": [
    {
     "data": {
      "text/html": [
       "<div>\n",
       "<style scoped>\n",
       "    .dataframe tbody tr th:only-of-type {\n",
       "        vertical-align: middle;\n",
       "    }\n",
       "\n",
       "    .dataframe tbody tr th {\n",
       "        vertical-align: top;\n",
       "    }\n",
       "\n",
       "    .dataframe thead th {\n",
       "        text-align: right;\n",
       "    }\n",
       "</style>\n",
       "<table border=\"1\" class=\"dataframe\">\n",
       "  <thead>\n",
       "    <tr style=\"text-align: right;\">\n",
       "      <th></th>\n",
       "      <th>id</th>\n",
       "      <th>host_id</th>\n",
       "      <th>host_is_superhost</th>\n",
       "      <th>neighbourhood_cleansed</th>\n",
       "      <th>neighbourhood_group_cleansed</th>\n",
       "      <th>latitude</th>\n",
       "      <th>longitude</th>\n",
       "      <th>property_type</th>\n",
       "      <th>room_type</th>\n",
       "      <th>accommodates</th>\n",
       "      <th>bathrooms_text</th>\n",
       "      <th>bedrooms</th>\n",
       "      <th>beds</th>\n",
       "      <th>amenities</th>\n",
       "      <th>price</th>\n",
       "      <th>availability_90</th>\n",
       "      <th>calendar_last_scraped</th>\n",
       "      <th>number_of_reviews</th>\n",
       "      <th>review_scores_value</th>\n",
       "      <th>file_name</th>\n",
       "    </tr>\n",
       "  </thead>\n",
       "  <tbody>\n",
       "    <tr>\n",
       "      <th>12408</th>\n",
       "      <td>2643760</td>\n",
       "      <td>4287899</td>\n",
       "      <td>t</td>\n",
       "      <td>Cedofeita, Ildefonso, Sé, Miragaia, Nicolau, V...</td>\n",
       "      <td>PORTO</td>\n",
       "      <td>41.14407</td>\n",
       "      <td>-8.61246</td>\n",
       "      <td>Entire rental unit</td>\n",
       "      <td>Entire home/apt</td>\n",
       "      <td>2</td>\n",
       "      <td>1 bath</td>\n",
       "      <td>1.0</td>\n",
       "      <td>1.0</td>\n",
       "      <td>[\"Patio or balcony\", \"Wine glasses\", \"Bidet\", ...</td>\n",
       "      <td>$70.00</td>\n",
       "      <td>34</td>\n",
       "      <td>2023-03-18</td>\n",
       "      <td>231</td>\n",
       "      <td>4.76</td>\n",
       "      <td>202303-listings.csv</td>\n",
       "    </tr>\n",
       "    <tr>\n",
       "      <th>12409</th>\n",
       "      <td>24408708</td>\n",
       "      <td>184264583</td>\n",
       "      <td>f</td>\n",
       "      <td>Aguçadoura e Navais</td>\n",
       "      <td>PÓVOA DE VARZIM</td>\n",
       "      <td>41.42545</td>\n",
       "      <td>-8.77694</td>\n",
       "      <td>Entire home</td>\n",
       "      <td>Entire home/apt</td>\n",
       "      <td>10</td>\n",
       "      <td>2 baths</td>\n",
       "      <td>3.0</td>\n",
       "      <td>5.0</td>\n",
       "      <td>[\"Crib\", \"Wine glasses\", \"Bidet\", \"Room-darken...</td>\n",
       "      <td>$95.00</td>\n",
       "      <td>53</td>\n",
       "      <td>2023-03-18</td>\n",
       "      <td>27</td>\n",
       "      <td>4.44</td>\n",
       "      <td>202303-listings.csv</td>\n",
       "    </tr>\n",
       "  </tbody>\n",
       "</table>\n",
       "</div>"
      ],
      "text/plain": [
       "             id    host_id host_is_superhost  \\\n",
       "12408   2643760    4287899                 t   \n",
       "12409  24408708  184264583                 f   \n",
       "\n",
       "                                  neighbourhood_cleansed  \\\n",
       "12408  Cedofeita, Ildefonso, Sé, Miragaia, Nicolau, V...   \n",
       "12409                                Aguçadoura e Navais   \n",
       "\n",
       "      neighbourhood_group_cleansed  latitude  longitude       property_type  \\\n",
       "12408                        PORTO  41.14407   -8.61246  Entire rental unit   \n",
       "12409              PÓVOA DE VARZIM  41.42545   -8.77694         Entire home   \n",
       "\n",
       "             room_type  accommodates bathrooms_text  bedrooms  beds  \\\n",
       "12408  Entire home/apt             2         1 bath       1.0   1.0   \n",
       "12409  Entire home/apt            10        2 baths       3.0   5.0   \n",
       "\n",
       "                                               amenities   price  \\\n",
       "12408  [\"Patio or balcony\", \"Wine glasses\", \"Bidet\", ...  $70.00   \n",
       "12409  [\"Crib\", \"Wine glasses\", \"Bidet\", \"Room-darken...  $95.00   \n",
       "\n",
       "       availability_90 calendar_last_scraped  number_of_reviews  \\\n",
       "12408               34            2023-03-18                231   \n",
       "12409               53            2023-03-18                 27   \n",
       "\n",
       "       review_scores_value            file_name  \n",
       "12408                 4.76  202303-listings.csv  \n",
       "12409                 4.44  202303-listings.csv  "
      ]
     },
     "execution_count": 11,
     "metadata": {},
     "output_type": "execute_result"
    }
   ],
   "source": [
    "listings_df_ls[0].tail(2)"
   ]
  },
  {
   "cell_type": "markdown",
   "id": "1de14c61",
   "metadata": {},
   "source": [
    "__neighbourhood_cleansed:__"
   ]
  },
  {
   "cell_type": "code",
   "execution_count": 12,
   "id": "5b8220e0",
   "metadata": {},
   "outputs": [
    {
     "name": "stdout",
     "output_type": "stream",
     "text": [
      "['Paranhos' 'Lordelo do Ouro e Massarelos' 'Bonfim'\n",
      " 'Matosinhos e Leça da Palmeira' 'Ramalde' 'Canidelo' 'Arcozelo'\n",
      " 'Mafamude e Vilar do Paraíso' 'Aldoar, Foz do Douro e Nevogilde'\n",
      " 'Santa Marinha e São Pedro da Afurada'\n",
      " 'São Mamede de Infesta e Senhora da Hora' 'Árvore'\n",
      " 'St. Tirso, Couto (S. Cristina e S. Miguel) e Burgães' 'Valongo'\n",
      " 'Baguim do Monte (Rio Tinto)' 'Recarei'\n",
      " 'Cedofeita, Ildefonso, Sé, Miragaia, Nicolau, Vitória' 'Arouca e Burgo'\n",
      " 'Várzea' 'Santa Maria da Feira, Travanca, Sanfins e Espargo' 'São Roque'\n",
      " 'Gondomar (São Cosme), Valbom e Jovim' 'Santa Maria de Lamas'\n",
      " 'AVer-o-Mar, Amorim e Terroso' 'Canelas e Espiunca' 'Aguçadoura e Navais'\n",
      " 'Balazar' 'Vila do Conde'\n",
      " 'O. Azeméis, Riba-Ul, Ul, Macinhata da Seixa, Madail'\n",
      " 'Custóias, Leça do Balio e Guifões' 'Gulpilhares e Valadares'\n",
      " 'Póvoa de Varzim, Beiriz e Argivai' 'São Félix da Marinha' 'Rio Tinto'\n",
      " 'Vila Chã, Codal e Vila Cova de Perrinho' 'Espinho' 'Oliveira do Douro'\n",
      " 'Campanhã' 'Milheirós de Poiares' 'Touguinha e Touguinhó'\n",
      " 'Fornelo e Vairão' 'Cidade da Maia' 'Madalena' 'Anta e Guetim' 'Louredo'\n",
      " 'Vila Chã' 'Perafita, Lavra e Santa Cruz do Bispo' 'Labruge' 'Moreira'\n",
      " 'Guilhabreu' 'Laundos' 'Vila Nova da Telha' 'Grijó e Sermonde'\n",
      " 'Rio Mau e Arcos' 'Baltar' 'São João da Madeira' 'Fornos' 'Rates'\n",
      " 'Foz do Sousa e Covelo' 'Roge' 'Lomba' 'Carregosa' 'Urrô' 'Cepelos'\n",
      " 'Ossela' 'Macieira de Cambra' 'São Pedro de Castelões' 'Parada de Todeia'\n",
      " 'Nogueira e Silva Escura' 'Arões' 'Santa Eulália'\n",
      " 'Canedo, Vale e Vila Maior' 'Cabreiros e Albergaria da Serra' 'Moldes'\n",
      " 'Paços de Brandão' 'Sobreira' 'Alfena' 'Melres e Medas' 'Duas Igrejas'\n",
      " 'Paredes' 'Cete' 'Aguiar de Sousa' 'São Miguel do Mato' 'Mansores'\n",
      " 'Pedrouços' 'Estela' 'Vilar de Pinheiro'\n",
      " 'Pinheiro da Bemposta, Travanca e Palmaz'\n",
      " 'Caldas de São Jorge e de Pigeiros' 'Fiães' 'Romariz'\n",
      " 'Vilar de Andorinho' 'Lobão, Gião, Louredo e Guisande'\n",
      " 'Sandim, Olival, Lever e Crestuma' 'São Miguel do Souto e Mosteirô'\n",
      " 'Macieira de Sarnes' 'Lourosa' 'Nogueira da Regedoura' 'Cesar' 'Fajões'\n",
      " 'Paramos' 'Fânzeres e São Pedro da Cova' 'Azurara' 'Malta e Canidelo'\n",
      " 'Tropeço' 'Vilar e Mosteiró' 'Mindelo' 'Alvarenga' 'Chave' 'Fermedo'\n",
      " 'Cristelo' 'Escariz' 'Campo e Sobrado' 'Rebordosa' 'Mozelos' 'Silvalde'\n",
      " 'Avintes' 'Canelas' 'Alvarelhos e Guidões'\n",
      " 'Areias, Sequeiró, Lama e Palmeira' 'Bougado (São Martinho e Santiago)'\n",
      " 'Castêlo da Maia' 'Ermesinde' 'Pedroso e Seixezelo' 'Argoncilhe'\n",
      " 'Monte Córdova' 'Covelas' 'Serzedo e Perosinho' 'Muro'\n",
      " 'São Martinho da Gândara' 'Agrela' 'Macieira da Maia' 'Junqueira'\n",
      " 'Bagunte, Ferreiró, Outeiro Maior e Parada' 'Gião' 'Reguenga'\n",
      " 'Vila Nova do Campo' 'Águas Santas' 'Rio Meão'\n",
      " 'Carreira e Refojos de Riba de Ave' 'Água Longa' 'Negrelos (São Tomé)'\n",
      " 'Coronado (São Romão e São Mamede)' 'Sanguedo' 'Milheirós'\n",
      " 'São Pedro Fins' 'Lordelo' 'Vila de Cucujães' 'Rossas' 'Gandra']\n"
     ]
    }
   ],
   "source": [
    "print(listings_df_ls[0]['neighbourhood_cleansed'].unique())"
   ]
  },
  {
   "cell_type": "markdown",
   "id": "fec612b5",
   "metadata": {},
   "source": [
    "Nothing unusual with the column _neighbourhood_cleansed_."
   ]
  },
  {
   "cell_type": "markdown",
   "id": "182ce01c",
   "metadata": {},
   "source": [
    "__neighbourhood_group_cleansed:__"
   ]
  },
  {
   "cell_type": "code",
   "execution_count": 13,
   "id": "e4f12938",
   "metadata": {},
   "outputs": [
    {
     "name": "stdout",
     "output_type": "stream",
     "text": [
      "['PORTO' 'MATOSINHOS' 'VILA NOVA DE GAIA' 'VILA DO CONDE' 'SANTO TIRSO'\n",
      " 'VALONGO' 'GONDOMAR' 'PAREDES' 'AROUCA' 'SANTA MARIA DA FEIRA'\n",
      " 'OLIVEIRA DE AZEMÉIS' 'PÓVOA DE VARZIM' 'VALE DE CAMBRA' 'ESPINHO' 'MAIA'\n",
      " 'SÃO JOÃO DA MADEIRA' 'TROFA']\n"
     ]
    }
   ],
   "source": [
    "print(listings_df_ls[0]['neighbourhood_group_cleansed'].unique())"
   ]
  },
  {
   "cell_type": "markdown",
   "id": "c0a80d2e",
   "metadata": {},
   "source": [
    "Nothing unusual with the column _neighbourhood_group_cleansed_."
   ]
  },
  {
   "cell_type": "markdown",
   "id": "b1f366e0",
   "metadata": {},
   "source": [
    "__property_type:__"
   ]
  },
  {
   "cell_type": "code",
   "execution_count": 14,
   "id": "8f6635b7",
   "metadata": {},
   "outputs": [
    {
     "name": "stdout",
     "output_type": "stream",
     "text": [
      "['Shared room in rental unit' 'Shared room in home'\n",
      " 'Private room in rental unit' 'Entire rental unit' 'Entire loft'\n",
      " 'Entire condo' 'Entire home' 'Private room in townhouse' 'Entire cabin'\n",
      " 'Treehouse' 'Entire vacation home' 'Entire villa' 'Private room in home'\n",
      " 'Private room' 'Private room in guesthouse' 'Entire townhouse'\n",
      " 'Room in hotel' 'Camper/RV' 'Entire place' 'Entire serviced apartment'\n",
      " 'Room in boutique hotel' 'Room in aparthotel' 'Entire cottage'\n",
      " 'Private room in villa' 'Entire bungalow' 'Private room in condo'\n",
      " 'Tiny home' 'Shared room in bed and breakfast'\n",
      " 'Private room in bed and breakfast' 'Private room in casa particular'\n",
      " 'Private room in earthen home' 'Casa particular' 'Private room in hostel'\n",
      " 'Shared room in hostel' 'Entire guesthouse' 'Private room in boat' 'Boat'\n",
      " 'Earthen home' 'Room in serviced apartment' 'Room in hostel'\n",
      " 'Private room in guest suite' 'Farm stay' 'Private room in nature lodge'\n",
      " 'Entire guest suite' 'Private room in loft' 'Private room in bungalow'\n",
      " 'Shared room in guesthouse' 'Private room in dome'\n",
      " 'Room in bed and breakfast' 'Private room in serviced apartment'\n",
      " 'Private room in tiny home' 'Hut' 'Houseboat' 'Barn'\n",
      " 'Shared room in condo' 'Entire chalet' 'Private room in chalet'\n",
      " 'Shipping container' 'Private room in cottage' 'Castle'\n",
      " 'Entire bed and breakfast' 'Private room in farm stay'\n",
      " 'Private room in vacation home' 'Room in heritage hotel'\n",
      " 'Shared room in guest suite' 'Tipi' 'Campsite' 'Windmill'\n",
      " 'Private room in minsu' 'Private room in kezhan' 'Entire home/apt']\n"
     ]
    }
   ],
   "source": [
    "print(listings_df_ls[0]['property_type'].unique())"
   ]
  },
  {
   "cell_type": "markdown",
   "id": "31f49039",
   "metadata": {},
   "source": [
    "Nothing unusual with the column _property_type_."
   ]
  },
  {
   "cell_type": "markdown",
   "id": "4895bbf4",
   "metadata": {},
   "source": [
    "__bathrooms_text:__"
   ]
  },
  {
   "cell_type": "code",
   "execution_count": 15,
   "id": "7a5e967a",
   "metadata": {},
   "outputs": [
    {
     "name": "stdout",
     "output_type": "stream",
     "text": [
      "['1.5 shared baths' '2 shared baths' '1 private bath' '3 shared baths'\n",
      " '1 bath' '2 baths' '1 shared bath' '5 baths' '3 baths' '6 baths'\n",
      " '1.5 baths' '7 baths' '4 baths' '3.5 baths' '0 baths' '5.5 baths'\n",
      " '2.5 baths' '8 baths' '11 baths' '9 baths' '3.5 shared baths' '4.5 baths'\n",
      " nan '0 shared baths' '2.5 shared baths' 'Shared half-bath' '6.5 baths'\n",
      " 'Half-bath' '4 shared baths' '8.5 baths' '7.5 shared baths'\n",
      " '5 shared baths' '6 shared baths' '4.5 shared baths' '7.5 baths'\n",
      " '10 baths' 'Private half-bath' '16 baths' '10.5 baths']\n"
     ]
    }
   ],
   "source": [
    "print(listings_df_ls[0]['bathrooms_text'].unique())"
   ]
  },
  {
   "cell_type": "markdown",
   "id": "929b1c41",
   "metadata": {},
   "source": [
    "Nothing unusual with the column _bathrooms_text_."
   ]
  },
  {
   "cell_type": "markdown",
   "id": "3855f53e",
   "metadata": {},
   "source": [
    "__price:__ this column needs to be converted to integer for a proper analysis."
   ]
  },
  {
   "cell_type": "code",
   "execution_count": 16,
   "id": "c9909af5",
   "metadata": {},
   "outputs": [
    {
     "data": {
      "text/html": [
       "<div>\n",
       "<style scoped>\n",
       "    .dataframe tbody tr th:only-of-type {\n",
       "        vertical-align: middle;\n",
       "    }\n",
       "\n",
       "    .dataframe tbody tr th {\n",
       "        vertical-align: top;\n",
       "    }\n",
       "\n",
       "    .dataframe thead th {\n",
       "        text-align: right;\n",
       "    }\n",
       "</style>\n",
       "<table border=\"1\" class=\"dataframe\">\n",
       "  <thead>\n",
       "    <tr style=\"text-align: right;\">\n",
       "      <th></th>\n",
       "      <th>price</th>\n",
       "      <th>price_usd</th>\n",
       "    </tr>\n",
       "  </thead>\n",
       "  <tbody>\n",
       "    <tr>\n",
       "      <th>12405</th>\n",
       "      <td>$148.00</td>\n",
       "      <td>148.0</td>\n",
       "    </tr>\n",
       "    <tr>\n",
       "      <th>12406</th>\n",
       "      <td>$102.00</td>\n",
       "      <td>102.0</td>\n",
       "    </tr>\n",
       "    <tr>\n",
       "      <th>12407</th>\n",
       "      <td>$150.00</td>\n",
       "      <td>150.0</td>\n",
       "    </tr>\n",
       "    <tr>\n",
       "      <th>12408</th>\n",
       "      <td>$70.00</td>\n",
       "      <td>70.0</td>\n",
       "    </tr>\n",
       "    <tr>\n",
       "      <th>12409</th>\n",
       "      <td>$95.00</td>\n",
       "      <td>95.0</td>\n",
       "    </tr>\n",
       "  </tbody>\n",
       "</table>\n",
       "</div>"
      ],
      "text/plain": [
       "         price  price_usd\n",
       "12405  $148.00      148.0\n",
       "12406  $102.00      102.0\n",
       "12407  $150.00      150.0\n",
       "12408   $70.00       70.0\n",
       "12409   $95.00       95.0"
      ]
     },
     "execution_count": 16,
     "metadata": {},
     "output_type": "execute_result"
    }
   ],
   "source": [
    "for i in range(0, len(listings_df_ls)):\n",
    "    listings_df_ls[i]['price_usd'] = listings_df_ls[i]['price'].str.replace('[^\\d.]', '', regex=True).astype(float)\n",
    "    \n",
    "listings_df_ls[0][['price', 'price_usd']].tail()"
   ]
  },
  {
   "cell_type": "markdown",
   "id": "8ac1925d",
   "metadata": {},
   "source": [
    "__availability_90:__ based on this column it is possible to calculate the ocupancy rate, which allows for a more intuitive analysis."
   ]
  },
  {
   "cell_type": "code",
   "execution_count": 17,
   "id": "5c60bb5e",
   "metadata": {},
   "outputs": [
    {
     "data": {
      "text/html": [
       "<div>\n",
       "<style scoped>\n",
       "    .dataframe tbody tr th:only-of-type {\n",
       "        vertical-align: middle;\n",
       "    }\n",
       "\n",
       "    .dataframe tbody tr th {\n",
       "        vertical-align: top;\n",
       "    }\n",
       "\n",
       "    .dataframe thead th {\n",
       "        text-align: right;\n",
       "    }\n",
       "</style>\n",
       "<table border=\"1\" class=\"dataframe\">\n",
       "  <thead>\n",
       "    <tr style=\"text-align: right;\">\n",
       "      <th></th>\n",
       "      <th>occupancy_rate_90</th>\n",
       "      <th>availability_90</th>\n",
       "    </tr>\n",
       "  </thead>\n",
       "  <tbody>\n",
       "    <tr>\n",
       "      <th>0</th>\n",
       "      <td>0.200000</td>\n",
       "      <td>72</td>\n",
       "    </tr>\n",
       "    <tr>\n",
       "      <th>1</th>\n",
       "      <td>0.522222</td>\n",
       "      <td>43</td>\n",
       "    </tr>\n",
       "    <tr>\n",
       "      <th>2</th>\n",
       "      <td>0.266667</td>\n",
       "      <td>66</td>\n",
       "    </tr>\n",
       "  </tbody>\n",
       "</table>\n",
       "</div>"
      ],
      "text/plain": [
       "   occupancy_rate_90  availability_90\n",
       "0           0.200000               72\n",
       "1           0.522222               43\n",
       "2           0.266667               66"
      ]
     },
     "execution_count": 17,
     "metadata": {},
     "output_type": "execute_result"
    }
   ],
   "source": [
    "for i in range(0, len(listings_df_ls)):\n",
    "    listings_df_ls[i]['occupancy_rate_90'] = (1 - (listings_df_ls[i]['availability_90'] / 90))\n",
    "\n",
    "listings_df_ls[0][['occupancy_rate_90','availability_90']].head(3)"
   ]
  },
  {
   "cell_type": "markdown",
   "id": "28e425f0",
   "metadata": {},
   "source": [
    "__calendar_last_scraped:__ this column needs to be converted to a date type for a proper analysis and rounded down to the beginning of the month, because there may be multiple different scrape dates for the same batch. Afterwards a categorical column _period_ will be created for better interpretability in the visualizations."
   ]
  },
  {
   "cell_type": "code",
   "execution_count": 18,
   "id": "718b557d",
   "metadata": {},
   "outputs": [
    {
     "data": {
      "text/plain": [
       "2023-03-17    12397\n",
       "2023-03-18       13\n",
       "Name: calendar_last_scraped, dtype: int64"
      ]
     },
     "execution_count": 18,
     "metadata": {},
     "output_type": "execute_result"
    }
   ],
   "source": [
    "listings_df_ls[0]['calendar_last_scraped'].value_counts()"
   ]
  },
  {
   "cell_type": "code",
   "execution_count": 19,
   "id": "e6a970ce",
   "metadata": {},
   "outputs": [
    {
     "data": {
      "text/plain": [
       "0   2023-03-01\n",
       "1   2023-03-01\n",
       "2   2023-03-01\n",
       "3   2023-03-01\n",
       "4   2023-03-01\n",
       "Name: calendar_last_scraped, dtype: datetime64[ns]"
      ]
     },
     "execution_count": 19,
     "metadata": {},
     "output_type": "execute_result"
    }
   ],
   "source": [
    "for i in range(0, len(listings_df_ls)):\n",
    "    listings_df_ls[i]['calendar_last_scraped'] = pd.to_datetime(listings_df_ls[i]['calendar_last_scraped'], format='%Y-%m-%d') - pd.offsets.MonthBegin(1)\n",
    "\n",
    "listings_df_ls[0]['calendar_last_scraped'].head()"
   ]
  },
  {
   "cell_type": "code",
   "execution_count": 185,
   "id": "d510df6b",
   "metadata": {},
   "outputs": [
    {
     "data": {
      "text/html": [
       "<div>\n",
       "<style scoped>\n",
       "    .dataframe tbody tr th:only-of-type {\n",
       "        vertical-align: middle;\n",
       "    }\n",
       "\n",
       "    .dataframe tbody tr th {\n",
       "        vertical-align: top;\n",
       "    }\n",
       "\n",
       "    .dataframe thead th {\n",
       "        text-align: right;\n",
       "    }\n",
       "</style>\n",
       "<table border=\"1\" class=\"dataframe\">\n",
       "  <thead>\n",
       "    <tr style=\"text-align: right;\">\n",
       "      <th></th>\n",
       "      <th>calendar_last_scraped</th>\n",
       "      <th>period</th>\n",
       "    </tr>\n",
       "  </thead>\n",
       "  <tbody>\n",
       "    <tr>\n",
       "      <th>0</th>\n",
       "      <td>2023-03-01</td>\n",
       "      <td>2023 Q1</td>\n",
       "    </tr>\n",
       "    <tr>\n",
       "      <th>1</th>\n",
       "      <td>2023-03-01</td>\n",
       "      <td>2023 Q1</td>\n",
       "    </tr>\n",
       "    <tr>\n",
       "      <th>2</th>\n",
       "      <td>2023-03-01</td>\n",
       "      <td>2023 Q1</td>\n",
       "    </tr>\n",
       "    <tr>\n",
       "      <th>3</th>\n",
       "      <td>2023-03-01</td>\n",
       "      <td>2023 Q1</td>\n",
       "    </tr>\n",
       "    <tr>\n",
       "      <th>4</th>\n",
       "      <td>2023-03-01</td>\n",
       "      <td>2023 Q1</td>\n",
       "    </tr>\n",
       "  </tbody>\n",
       "</table>\n",
       "</div>"
      ],
      "text/plain": [
       "  calendar_last_scraped   period\n",
       "0            2023-03-01  2023 Q1\n",
       "1            2023-03-01  2023 Q1\n",
       "2            2023-03-01  2023 Q1\n",
       "3            2023-03-01  2023 Q1\n",
       "4            2023-03-01  2023 Q1"
      ]
     },
     "execution_count": 185,
     "metadata": {},
     "output_type": "execute_result"
    }
   ],
   "source": [
    "index_mapping = {\"2022-06-01\" : \"2022 Q2\",\n",
    "                 \"2022-09-01\" : \"2022 Q3\",\n",
    "                 \"2022-12-01\" : \"2022 Q4\",\n",
    "                 \"2023-03-01\" : \"2023 Q1\"}\n",
    "\n",
    "for i in range(0, len(listings_df_ls)):\n",
    "    listings_df_ls[i]['period'] = listings_df_ls[i]['calendar_last_scraped'].astype(str).replace(index_mapping)\n",
    "    \n",
    "listings_df_ls[0][[\"calendar_last_scraped\",\"period\"]].head()"
   ]
  },
  {
   "cell_type": "markdown",
   "id": "fdb25595",
   "metadata": {},
   "source": [
    "#### <a href=\"#top\">Back to top</a>"
   ]
  },
  {
   "cell_type": "markdown",
   "id": "018a7d0e",
   "metadata": {},
   "source": [
    "# Exploratory Data Analysis\n",
    "With the relevant columns cleaned and treated, in this section I started to look at the distribution of some features, calculated some interesting statistics and looked at the evolution of some values using the 12-month data."
   ]
  },
  {
   "cell_type": "markdown",
   "id": "8d04bb71",
   "metadata": {},
   "source": [
    "## First assessment of data distributions"
   ]
  },
  {
   "cell_type": "code",
   "execution_count": 20,
   "id": "b7a82f43",
   "metadata": {
    "scrolled": true
   },
   "outputs": [
    {
     "data": {
      "text/html": [
       "<div>\n",
       "<style scoped>\n",
       "    .dataframe tbody tr th:only-of-type {\n",
       "        vertical-align: middle;\n",
       "    }\n",
       "\n",
       "    .dataframe tbody tr th {\n",
       "        vertical-align: top;\n",
       "    }\n",
       "\n",
       "    .dataframe thead th {\n",
       "        text-align: right;\n",
       "    }\n",
       "</style>\n",
       "<table border=\"1\" class=\"dataframe\">\n",
       "  <thead>\n",
       "    <tr style=\"text-align: right;\">\n",
       "      <th></th>\n",
       "      <th>accommodates</th>\n",
       "      <th>bedrooms</th>\n",
       "      <th>beds</th>\n",
       "      <th>occupancy_rate_90</th>\n",
       "      <th>price_usd</th>\n",
       "      <th>number_of_reviews</th>\n",
       "      <th>review_scores_value</th>\n",
       "    </tr>\n",
       "  </thead>\n",
       "  <tbody>\n",
       "    <tr>\n",
       "      <th>count</th>\n",
       "      <td>12410.000000</td>\n",
       "      <td>12410.000000</td>\n",
       "      <td>12410.000000</td>\n",
       "      <td>12410.000000</td>\n",
       "      <td>12410.00000</td>\n",
       "      <td>12410.000000</td>\n",
       "      <td>10788.000000</td>\n",
       "    </tr>\n",
       "    <tr>\n",
       "      <th>mean</th>\n",
       "      <td>3.695165</td>\n",
       "      <td>1.504432</td>\n",
       "      <td>2.229170</td>\n",
       "      <td>0.540101</td>\n",
       "      <td>116.43747</td>\n",
       "      <td>51.361563</td>\n",
       "      <td>4.651350</td>\n",
       "    </tr>\n",
       "    <tr>\n",
       "      <th>std</th>\n",
       "      <td>2.140594</td>\n",
       "      <td>0.954702</td>\n",
       "      <td>1.664315</td>\n",
       "      <td>0.320422</td>\n",
       "      <td>1266.15990</td>\n",
       "      <td>81.257677</td>\n",
       "      <td>0.371134</td>\n",
       "    </tr>\n",
       "    <tr>\n",
       "      <th>min</th>\n",
       "      <td>1.000000</td>\n",
       "      <td>1.000000</td>\n",
       "      <td>1.000000</td>\n",
       "      <td>0.000000</td>\n",
       "      <td>9.00000</td>\n",
       "      <td>0.000000</td>\n",
       "      <td>1.000000</td>\n",
       "    </tr>\n",
       "    <tr>\n",
       "      <th>25%</th>\n",
       "      <td>2.000000</td>\n",
       "      <td>1.000000</td>\n",
       "      <td>1.000000</td>\n",
       "      <td>0.266667</td>\n",
       "      <td>50.00000</td>\n",
       "      <td>3.000000</td>\n",
       "      <td>4.550000</td>\n",
       "    </tr>\n",
       "    <tr>\n",
       "      <th>50%</th>\n",
       "      <td>3.000000</td>\n",
       "      <td>1.000000</td>\n",
       "      <td>2.000000</td>\n",
       "      <td>0.544444</td>\n",
       "      <td>69.00000</td>\n",
       "      <td>18.000000</td>\n",
       "      <td>4.740000</td>\n",
       "    </tr>\n",
       "    <tr>\n",
       "      <th>75%</th>\n",
       "      <td>4.000000</td>\n",
       "      <td>2.000000</td>\n",
       "      <td>3.000000</td>\n",
       "      <td>0.822222</td>\n",
       "      <td>98.00000</td>\n",
       "      <td>63.000000</td>\n",
       "      <td>4.860000</td>\n",
       "    </tr>\n",
       "    <tr>\n",
       "      <th>max</th>\n",
       "      <td>16.000000</td>\n",
       "      <td>16.000000</td>\n",
       "      <td>23.000000</td>\n",
       "      <td>1.000000</td>\n",
       "      <td>80100.00000</td>\n",
       "      <td>833.000000</td>\n",
       "      <td>5.000000</td>\n",
       "    </tr>\n",
       "  </tbody>\n",
       "</table>\n",
       "</div>"
      ],
      "text/plain": [
       "       accommodates      bedrooms          beds  occupancy_rate_90  \\\n",
       "count  12410.000000  12410.000000  12410.000000       12410.000000   \n",
       "mean       3.695165      1.504432      2.229170           0.540101   \n",
       "std        2.140594      0.954702      1.664315           0.320422   \n",
       "min        1.000000      1.000000      1.000000           0.000000   \n",
       "25%        2.000000      1.000000      1.000000           0.266667   \n",
       "50%        3.000000      1.000000      2.000000           0.544444   \n",
       "75%        4.000000      2.000000      3.000000           0.822222   \n",
       "max       16.000000     16.000000     23.000000           1.000000   \n",
       "\n",
       "         price_usd  number_of_reviews  review_scores_value  \n",
       "count  12410.00000       12410.000000         10788.000000  \n",
       "mean     116.43747          51.361563             4.651350  \n",
       "std     1266.15990          81.257677             0.371134  \n",
       "min        9.00000           0.000000             1.000000  \n",
       "25%       50.00000           3.000000             4.550000  \n",
       "50%       69.00000          18.000000             4.740000  \n",
       "75%       98.00000          63.000000             4.860000  \n",
       "max    80100.00000         833.000000             5.000000  "
      ]
     },
     "execution_count": 20,
     "metadata": {},
     "output_type": "execute_result"
    }
   ],
   "source": [
    "listings_df_ls[0][[\"accommodates\",\"bedrooms\",\"beds\",\"occupancy_rate_90\",\"price_usd\",\"number_of_reviews\",\"review_scores_value\"]].describe()"
   ]
  },
  {
   "cell_type": "markdown",
   "id": "a62c2cff",
   "metadata": {},
   "source": [
    "__Observation__: By looking at the quantiles and the standard deviations we can see that we are dealing with some extreme values, like for example the price or the number of reviews. It is therefore important to chose the statistic most appropriate - in this case the __median__ (50%-quantile) would be a better choise than the mean."
   ]
  },
  {
   "cell_type": "markdown",
   "id": "46af5f64",
   "metadata": {},
   "source": [
    "## 12-month data evolution analysis"
   ]
  },
  {
   "cell_type": "code",
   "execution_count": 186,
   "id": "2af727af",
   "metadata": {},
   "outputs": [],
   "source": [
    "# merge in all dataframes into one\n",
    "full_data_df = pd.concat(listings_df_ls, axis=0)"
   ]
  },
  {
   "cell_type": "markdown",
   "id": "2ab94ae7",
   "metadata": {},
   "source": [
    "### Analysis of the number of listings"
   ]
  },
  {
   "cell_type": "markdown",
   "id": "58fe00b7",
   "metadata": {},
   "source": [
    "Print a bar chart with the number of listings by batch date"
   ]
  },
  {
   "cell_type": "code",
   "execution_count": 208,
   "id": "80e8d3aa",
   "metadata": {},
   "outputs": [
    {
     "data": {
      "image/png": "[encoded data removed]",
      "text/plain": [
       "<Figure size 576x288 with 1 Axes>"
      ]
     },
     "metadata": {
      "needs_background": "light"
     },
     "output_type": "display_data"
    }
   ],
   "source": [
    "# create the count of listings by period and sort it by period rank\n",
    "value_counts = full_data_df[\"period\"].value_counts().sort_index()\n",
    "\n",
    "# Plot the bar chat\n",
    "ax = value_counts.plot.bar(figsize=(8,4),color=\"salmon\",legend=False)\n",
    "\n",
    "for i, value in enumerate(value_counts):\n",
    "    ax.annotate(f\"\"\"{value}\"\"\", (i, value), ha='center', va='top')\n",
    "        \n",
    "ax.set_title(\"Number of listings by period\", fontsize=16)\n",
    "ax.set_xlabel(\"Period\")\n",
    "ax.set_ylabel(\"Count\")\n",
    "plt.xticks(rotation=0)\n",
    "\n",
    "plt.show()"
   ]
  },
  {
   "cell_type": "markdown",
   "id": "ad126c11",
   "metadata": {},
   "source": [
    "__Observation__: It is possible to see a considerable increase in the number of listings considering the fact that these increases occur in just a 3-month period."
   ]
  },
  {
   "cell_type": "markdown",
   "id": "9aa8f89f",
   "metadata": {},
   "source": [
    "Print a table with the number of listings by batch date broken down by city"
   ]
  },
  {
   "cell_type": "code",
   "execution_count": 200,
   "id": "d09f1935",
   "metadata": {},
   "outputs": [
    {
     "data": {
      "text/html": [
       "<style  type=\"text/css\" >\n",
       "</style><table id=\"T_f7198_\" ><thead>    <tr>        <th class=\"col_heading level0 col0\" >neighbourhood_group_cleansed</th>        <th class=\"col_heading level0 col1\" >2022 Q2</th>        <th class=\"col_heading level0 col2\" >2022 Q3</th>        <th class=\"col_heading level0 col3\" >2022 Q4</th>        <th class=\"col_heading level0 col4\" >2023 Q1</th>    </tr></thead><tbody>\n",
       "                <tr>\n",
       "                                <td id=\"T_f7198_row0_col0\" class=\"data row0 col0\" >PORTO</td>\n",
       "                        <td id=\"T_f7198_row0_col1\" class=\"data row0 col1\" >7960</td>\n",
       "                        <td id=\"T_f7198_row0_col2\" class=\"data row0 col2\" >8518</td>\n",
       "                        <td id=\"T_f7198_row0_col3\" class=\"data row0 col3\" >8901</td>\n",
       "                        <td id=\"T_f7198_row0_col4\" class=\"data row0 col4\" >9248</td>\n",
       "            </tr>\n",
       "            <tr>\n",
       "                                <td id=\"T_f7198_row1_col0\" class=\"data row1 col0\" >VILA NOVA DE GAIA</td>\n",
       "                        <td id=\"T_f7198_row1_col1\" class=\"data row1 col1\" >1200</td>\n",
       "                        <td id=\"T_f7198_row1_col2\" class=\"data row1 col2\" >1246</td>\n",
       "                        <td id=\"T_f7198_row1_col3\" class=\"data row1 col3\" >1285</td>\n",
       "                        <td id=\"T_f7198_row1_col4\" class=\"data row1 col4\" >1319</td>\n",
       "            </tr>\n",
       "            <tr>\n",
       "                                <td id=\"T_f7198_row2_col0\" class=\"data row2 col0\" >MATOSINHOS</td>\n",
       "                        <td id=\"T_f7198_row2_col1\" class=\"data row2 col1\" >445</td>\n",
       "                        <td id=\"T_f7198_row2_col2\" class=\"data row2 col2\" >468</td>\n",
       "                        <td id=\"T_f7198_row2_col3\" class=\"data row2 col3\" >482</td>\n",
       "                        <td id=\"T_f7198_row2_col4\" class=\"data row2 col4\" >500</td>\n",
       "            </tr>\n",
       "            <tr>\n",
       "                                <td id=\"T_f7198_row3_col0\" class=\"data row3 col0\" >VILA DO CONDE</td>\n",
       "                        <td id=\"T_f7198_row3_col1\" class=\"data row3 col1\" >277</td>\n",
       "                        <td id=\"T_f7198_row3_col2\" class=\"data row3 col2\" >299</td>\n",
       "                        <td id=\"T_f7198_row3_col3\" class=\"data row3 col3\" >289</td>\n",
       "                        <td id=\"T_f7198_row3_col4\" class=\"data row3 col4\" >285</td>\n",
       "            </tr>\n",
       "            <tr>\n",
       "                                <td id=\"T_f7198_row4_col0\" class=\"data row4 col0\" >PÓVOA DE VARZIM</td>\n",
       "                        <td id=\"T_f7198_row4_col1\" class=\"data row4 col1\" >296</td>\n",
       "                        <td id=\"T_f7198_row4_col2\" class=\"data row4 col2\" >294</td>\n",
       "                        <td id=\"T_f7198_row4_col3\" class=\"data row4 col3\" >246</td>\n",
       "                        <td id=\"T_f7198_row4_col4\" class=\"data row4 col4\" >256</td>\n",
       "            </tr>\n",
       "            <tr>\n",
       "                                <td id=\"T_f7198_row5_col0\" class=\"data row5 col0\" >AROUCA</td>\n",
       "                        <td id=\"T_f7198_row5_col1\" class=\"data row5 col1\" >151</td>\n",
       "                        <td id=\"T_f7198_row5_col2\" class=\"data row5 col2\" >156</td>\n",
       "                        <td id=\"T_f7198_row5_col3\" class=\"data row5 col3\" >136</td>\n",
       "                        <td id=\"T_f7198_row5_col4\" class=\"data row5 col4\" >136</td>\n",
       "            </tr>\n",
       "            <tr>\n",
       "                                <td id=\"T_f7198_row6_col0\" class=\"data row6 col0\" >GONDOMAR</td>\n",
       "                        <td id=\"T_f7198_row6_col1\" class=\"data row6 col1\" >112</td>\n",
       "                        <td id=\"T_f7198_row6_col2\" class=\"data row6 col2\" >124</td>\n",
       "                        <td id=\"T_f7198_row6_col3\" class=\"data row6 col3\" >119</td>\n",
       "                        <td id=\"T_f7198_row6_col4\" class=\"data row6 col4\" >126</td>\n",
       "            </tr>\n",
       "            <tr>\n",
       "                                <td id=\"T_f7198_row7_col0\" class=\"data row7 col0\" >ESPINHO</td>\n",
       "                        <td id=\"T_f7198_row7_col1\" class=\"data row7 col1\" >179</td>\n",
       "                        <td id=\"T_f7198_row7_col2\" class=\"data row7 col2\" >188</td>\n",
       "                        <td id=\"T_f7198_row7_col3\" class=\"data row7 col3\" >120</td>\n",
       "                        <td id=\"T_f7198_row7_col4\" class=\"data row7 col4\" >120</td>\n",
       "            </tr>\n",
       "            <tr>\n",
       "                                <td id=\"T_f7198_row8_col0\" class=\"data row8 col0\" >MAIA</td>\n",
       "                        <td id=\"T_f7198_row8_col1\" class=\"data row8 col1\" >92</td>\n",
       "                        <td id=\"T_f7198_row8_col2\" class=\"data row8 col2\" >95</td>\n",
       "                        <td id=\"T_f7198_row8_col3\" class=\"data row8 col3\" >89</td>\n",
       "                        <td id=\"T_f7198_row8_col4\" class=\"data row8 col4\" >89</td>\n",
       "            </tr>\n",
       "            <tr>\n",
       "                                <td id=\"T_f7198_row9_col0\" class=\"data row9 col0\" >VALE DE CAMBRA</td>\n",
       "                        <td id=\"T_f7198_row9_col1\" class=\"data row9 col1\" >65</td>\n",
       "                        <td id=\"T_f7198_row9_col2\" class=\"data row9 col2\" >73</td>\n",
       "                        <td id=\"T_f7198_row9_col3\" class=\"data row9 col3\" >60</td>\n",
       "                        <td id=\"T_f7198_row9_col4\" class=\"data row9 col4\" >62</td>\n",
       "            </tr>\n",
       "            <tr>\n",
       "                                <td id=\"T_f7198_row10_col0\" class=\"data row10 col0\" >PAREDES</td>\n",
       "                        <td id=\"T_f7198_row10_col1\" class=\"data row10 col1\" >93</td>\n",
       "                        <td id=\"T_f7198_row10_col2\" class=\"data row10 col2\" >87</td>\n",
       "                        <td id=\"T_f7198_row10_col3\" class=\"data row10 col3\" >61</td>\n",
       "                        <td id=\"T_f7198_row10_col4\" class=\"data row10 col4\" >61</td>\n",
       "            </tr>\n",
       "            <tr>\n",
       "                                <td id=\"T_f7198_row11_col0\" class=\"data row11 col0\" >SANTA MARIA DA FEIRA</td>\n",
       "                        <td id=\"T_f7198_row11_col1\" class=\"data row11 col1\" >71</td>\n",
       "                        <td id=\"T_f7198_row11_col2\" class=\"data row11 col2\" >72</td>\n",
       "                        <td id=\"T_f7198_row11_col3\" class=\"data row11 col3\" >67</td>\n",
       "                        <td id=\"T_f7198_row11_col4\" class=\"data row11 col4\" >58</td>\n",
       "            </tr>\n",
       "            <tr>\n",
       "                                <td id=\"T_f7198_row12_col0\" class=\"data row12 col0\" >OLIVEIRA DE AZEMÉIS</td>\n",
       "                        <td id=\"T_f7198_row12_col1\" class=\"data row12 col1\" >60</td>\n",
       "                        <td id=\"T_f7198_row12_col2\" class=\"data row12 col2\" >64</td>\n",
       "                        <td id=\"T_f7198_row12_col3\" class=\"data row12 col3\" >55</td>\n",
       "                        <td id=\"T_f7198_row12_col4\" class=\"data row12 col4\" >47</td>\n",
       "            </tr>\n",
       "            <tr>\n",
       "                                <td id=\"T_f7198_row13_col0\" class=\"data row13 col0\" >SANTO TIRSO</td>\n",
       "                        <td id=\"T_f7198_row13_col1\" class=\"data row13 col1\" >47</td>\n",
       "                        <td id=\"T_f7198_row13_col2\" class=\"data row13 col2\" >58</td>\n",
       "                        <td id=\"T_f7198_row13_col3\" class=\"data row13 col3\" >37</td>\n",
       "                        <td id=\"T_f7198_row13_col4\" class=\"data row13 col4\" >36</td>\n",
       "            </tr>\n",
       "            <tr>\n",
       "                                <td id=\"T_f7198_row14_col0\" class=\"data row14 col0\" >VALONGO</td>\n",
       "                        <td id=\"T_f7198_row14_col1\" class=\"data row14 col1\" >26</td>\n",
       "                        <td id=\"T_f7198_row14_col2\" class=\"data row14 col2\" >24</td>\n",
       "                        <td id=\"T_f7198_row14_col3\" class=\"data row14 col3\" >27</td>\n",
       "                        <td id=\"T_f7198_row14_col4\" class=\"data row14 col4\" >28</td>\n",
       "            </tr>\n",
       "            <tr>\n",
       "                                <td id=\"T_f7198_row15_col0\" class=\"data row15 col0\" >SÃO JOÃO DA MADEIRA</td>\n",
       "                        <td id=\"T_f7198_row15_col1\" class=\"data row15 col1\" >23</td>\n",
       "                        <td id=\"T_f7198_row15_col2\" class=\"data row15 col2\" >22</td>\n",
       "                        <td id=\"T_f7198_row15_col3\" class=\"data row15 col3\" >24</td>\n",
       "                        <td id=\"T_f7198_row15_col4\" class=\"data row15 col4\" >23</td>\n",
       "            </tr>\n",
       "            <tr>\n",
       "                                <td id=\"T_f7198_row16_col0\" class=\"data row16 col0\" >TROFA</td>\n",
       "                        <td id=\"T_f7198_row16_col1\" class=\"data row16 col1\" >17</td>\n",
       "                        <td id=\"T_f7198_row16_col2\" class=\"data row16 col2\" >16</td>\n",
       "                        <td id=\"T_f7198_row16_col3\" class=\"data row16 col3\" >15</td>\n",
       "                        <td id=\"T_f7198_row16_col4\" class=\"data row16 col4\" >16</td>\n",
       "            </tr>\n",
       "    </tbody></table>"
      ],
      "text/plain": [
       "<pandas.io.formats.style.Styler at 0x20bfdeda700>"
      ]
     },
     "execution_count": 200,
     "metadata": {},
     "output_type": "execute_result"
    }
   ],
   "source": [
    "# create the count of listings by batch date by period\n",
    "value_counts = full_data_df.groupby([\"period\", \"neighbourhood_group_cleansed\"]).size().unstack().sort_index()\n",
    "value_counts = value_counts.T\n",
    "value_counts.reset_index().sort_values(\"2023 Q1\", ascending=False).style.hide_index()"
   ]
  },
  {
   "cell_type": "markdown",
   "id": "66dc9853",
   "metadata": {},
   "source": [
    "__Observation__: The first thing I noticed here is again how skewed the data is. Secondly almost all of cities kept the increasing trend but some cities like Maia, Espinho, or Arouca show a decrease in the offerings. \n",
    "\n",
    "Let's see this in two graphics: one for the biggest cities in terms of oferigns and a second for the rest."
   ]
  },
  {
   "cell_type": "code",
   "execution_count": 201,
   "id": "80687ffb",
   "metadata": {},
   "outputs": [],
   "source": [
    "# create a separated Dataframe with the results from the table above\n",
    "value_counts_by_city = value_counts.reset_index().sort_values(\"2023 Q1\", ascending=False)\n",
    "value_counts_by_city = value_counts_by_city.set_index('neighbourhood_group_cleansed')"
   ]
  },
  {
   "cell_type": "code",
   "execution_count": 203,
   "id": "c57be9af",
   "metadata": {},
   "outputs": [
    {
     "data": {
      "image/png": "[encoded data removed]",
      "text/plain": [
       "<Figure size 576x288 with 1 Axes>"
      ]
     },
     "metadata": {
      "needs_background": "light"
     },
     "output_type": "display_data"
    }
   ],
   "source": [
    "# Plot the 1st bar chat\n",
    "ax = value_counts_by_city[value_counts_by_city.index.isin([\"PORTO\",\"VILA NOVA DE GAIA\"])].plot.bar(figsize=(8,4), legend=True, cmap='Set2')\n",
    "\n",
    "ax.set_title(\"Number of listings by city (Porto & Gaia only) by period\", fontsize=16)\n",
    "ax.set_xlabel(\"City\")\n",
    "ax.set_ylabel(\"Count\")\n",
    "\n",
    "plt.xticks(rotation=0)\n",
    "plt.legend(title=\"Period\")\n",
    "\n",
    "plt.show()"
   ]
  },
  {
   "cell_type": "code",
   "execution_count": 237,
   "id": "a03fcbb7",
   "metadata": {},
   "outputs": [
    {
     "data": {
      "image/png": "[encoded data removed]",
      "text/plain": [
       "<Figure size 1152x288 with 1 Axes>"
      ]
     },
     "metadata": {
      "needs_background": "light"
     },
     "output_type": "display_data"
    }
   ],
   "source": [
    "# Plot the 1st bar chat\n",
    "ax = value_counts_by_city[~value_counts_by_city.index.isin([\"PORTO\",\"VILA NOVA DE GAIA\"])].plot.bar(figsize=(16,4), legend=True, cmap='Set2')\n",
    "\n",
    "ax.set_title(\"Number of listings by city (without Porto & Gaia) by period\", fontsize=16)\n",
    "ax.set_xlabel(\"City\")\n",
    "ax.set_ylabel(\"Count\")\n",
    "\n",
    "plt.grid(axis='y', linestyle='-', linewidth=0.5, alpha=0.5)\n",
    "plt.xticks(rotation=45)\n",
    "plt.legend(title=\"Period\")\n",
    "\n",
    "plt.show()"
   ]
  },
  {
   "cell_type": "markdown",
   "id": "4f31dfa9",
   "metadata": {},
   "source": [
    "### Analysis of the occupancy rates"
   ]
  },
  {
   "cell_type": "code",
   "execution_count": 214,
   "id": "fbf3b5a1",
   "metadata": {},
   "outputs": [
    {
     "data": {
      "image/png": "[encoded data removed]",
      "text/plain": [
       "<Figure size 576x288 with 1 Axes>"
      ]
     },
     "metadata": {
      "needs_background": "light"
     },
     "output_type": "display_data"
    },
    {
     "name": "stdout",
     "output_type": "stream",
     "text": [
      "The overall mean of the 90-day occupancy rates between June 2022 and Mars 2023 was 51%.\n"
     ]
    }
   ],
   "source": [
    "### get the mean value of the occupancy rates by period\n",
    "occ_rates_by_batch = full_data_df.groupby(\"period\")[\"occupancy_rate_90\"].mean()\n",
    "\n",
    "# Plot the bar chat\n",
    "ax = occ_rates_by_batch.plot.bar(figsize=(8,4),color=\"salmon\",legend=False)\n",
    "\n",
    "for i, value in enumerate(occ_rates_by_batch):\n",
    "    ax.annotate(f\"\"\"{value*100:.1f}%\"\"\", (i, value), ha='center', va='top')\n",
    "        \n",
    "ax.set_title(\"Occupancy rates (90 days) by period\", fontsize=16)\n",
    "ax.set_xlabel(\"Period\")\n",
    "ax.set_ylabel(\"Proportion\")\n",
    "plt.xticks(rotation=0)\n",
    "\n",
    "plt.show();\n",
    "print(\"The overall mean of the 90-day occupancy rates between June 2022 and Mars 2023 was {}%.\".format(round(full_data_df[\"occupancy_rate_90\"].mean()*100),2))"
   ]
  },
  {
   "cell_type": "markdown",
   "id": "6155afcb",
   "metadata": {},
   "source": [
    "__Observation__: We can see that in the colder months the occupancy rate tends to decrease, as it is expected since Porto is a touristic city, which is highly impacted by the Tourism seasons of the nothern hemisphere. Now let us see if there are noticeable differences between superhosts and non-superhosts."
   ]
  },
  {
   "cell_type": "code",
   "execution_count": 211,
   "id": "79e38758",
   "metadata": {},
   "outputs": [
    {
     "data": {
      "text/html": [
       "<div>\n",
       "<style scoped>\n",
       "    .dataframe tbody tr th:only-of-type {\n",
       "        vertical-align: middle;\n",
       "    }\n",
       "\n",
       "    .dataframe tbody tr th {\n",
       "        vertical-align: top;\n",
       "    }\n",
       "\n",
       "    .dataframe thead th {\n",
       "        text-align: right;\n",
       "    }\n",
       "</style>\n",
       "<table border=\"1\" class=\"dataframe\">\n",
       "  <thead>\n",
       "    <tr style=\"text-align: right;\">\n",
       "      <th>host_is_superhost</th>\n",
       "      <th>f</th>\n",
       "      <th>t</th>\n",
       "    </tr>\n",
       "    <tr>\n",
       "      <th>period</th>\n",
       "      <th></th>\n",
       "      <th></th>\n",
       "    </tr>\n",
       "  </thead>\n",
       "  <tbody>\n",
       "    <tr>\n",
       "      <th>2022 Q2</th>\n",
       "      <td>0.623985</td>\n",
       "      <td>0.671584</td>\n",
       "    </tr>\n",
       "    <tr>\n",
       "      <th>2022 Q3</th>\n",
       "      <td>0.471338</td>\n",
       "      <td>0.467840</td>\n",
       "    </tr>\n",
       "    <tr>\n",
       "      <th>2022 Q4</th>\n",
       "      <td>0.395005</td>\n",
       "      <td>0.354595</td>\n",
       "    </tr>\n",
       "    <tr>\n",
       "      <th>2023 Q1</th>\n",
       "      <td>0.523198</td>\n",
       "      <td>0.574575</td>\n",
       "    </tr>\n",
       "  </tbody>\n",
       "</table>\n",
       "</div>"
      ],
      "text/plain": [
       "host_is_superhost         f         t\n",
       "period                               \n",
       "2022 Q2            0.623985  0.671584\n",
       "2022 Q3            0.471338  0.467840\n",
       "2022 Q4            0.395005  0.354595\n",
       "2023 Q1            0.523198  0.574575"
      ]
     },
     "execution_count": 211,
     "metadata": {},
     "output_type": "execute_result"
    }
   ],
   "source": [
    "occ_rates_by_batch_by_host = full_data_df.groupby([\"period\",\"host_is_superhost\"])[\"occupancy_rate_90\"].mean().unstack()\n",
    "occ_rates_by_batch_by_host"
   ]
  },
  {
   "cell_type": "markdown",
   "id": "589e2847",
   "metadata": {},
   "source": [
    "- __Observation__: This was an interesting finding: One could assume that superhosts would have a bigger occupancy rate, since this is a special distinction in the Airbnb platform, but this data suggests that the numbers are much similar. However, it seems that as the occupancy rates increase, the difference between the two also increases in favor of the superhosts.\n",
    "- __Suggestion__: One could try to explain this by looking at the price distribution of the occupied and free listings to see if price matters here or looke into the person correlation to see if this is really a trend but due to lack of historical data and the scope of this project this will be ignored."
   ]
  },
  {
   "cell_type": "code",
   "execution_count": 212,
   "id": "1144c8e5",
   "metadata": {},
   "outputs": [
    {
     "data": {
      "text/plain": [
       "neighbourhood_group_cleansed\n",
       "MATOSINHOS              0.552419\n",
       "VILA NOVA DE GAIA       0.522174\n",
       "MAIA                    0.514977\n",
       "PORTO                   0.514593\n",
       "SÃO JOÃO DA MADEIRA     0.499638\n",
       "VALONGO                 0.492169\n",
       "PÓVOA DE VARZIM         0.471551\n",
       "ESPINHO                 0.462237\n",
       "VILA DO CONDE           0.443469\n",
       "GONDOMAR                0.433726\n",
       "PAREDES                 0.408646\n",
       "SANTA MARIA DA FEIRA    0.385779\n",
       "SANTO TIRSO             0.366355\n",
       "TROFA                   0.327951\n",
       "OLIVEIRA DE AZEMÉIS     0.313078\n",
       "VALE DE CAMBRA          0.303248\n",
       "AROUCA                  0.264172\n",
       "Name: occupancy_rate_90, dtype: float64"
      ]
     },
     "execution_count": 212,
     "metadata": {},
     "output_type": "execute_result"
    }
   ],
   "source": [
    "#Print the mean occupancy rate by city for the 12-month period\n",
    "full_data_df.groupby(\"neighbourhood_group_cleansed\")[\"occupancy_rate_90\"].mean().sort_values(ascending=False)"
   ]
  },
  {
   "cell_type": "markdown",
   "id": "18dba055",
   "metadata": {},
   "source": [
    "Print the 90-day occupancy rates by batch date and by city"
   ]
  },
  {
   "cell_type": "code",
   "execution_count": 236,
   "id": "69cce9de",
   "metadata": {},
   "outputs": [
    {
     "data": {
      "image/png": "[encoded data removed]",
      "text/plain": [
       "<Figure size 1152x288 with 1 Axes>"
      ]
     },
     "metadata": {
      "needs_background": "light"
     },
     "output_type": "display_data"
    }
   ],
   "source": [
    "# get the mean value of the occupancy rates by period by city\n",
    "occ_rates_by_batch_by_city = full_data_df.groupby([\"period\",\"neighbourhood_group_cleansed\"])[\"occupancy_rate_90\"].mean().unstack()\n",
    "occ_rates_by_batch_by_city = occ_rates_by_batch_by_city.T\n",
    "\n",
    "# Plot the bar chat\n",
    "ax = occ_rates_by_batch_by_city.plot.bar(figsize=(16,4), legend=True, cmap='Set2')\n",
    "\n",
    "ax.set_title(\"Mean 90-day occupancy rate by period by city\", fontsize=16)\n",
    "ax.set_xlabel(\"City\")\n",
    "ax.set_ylabel(\"Fraction\")\n",
    "plt.grid(axis='y', linestyle='-', linewidth=0.5, alpha=0.5)\n",
    "plt.xticks(rotation=45)\n",
    "\n",
    "plt.legend(title=\"Period\")\n",
    "\n",
    "plt.show()"
   ]
  },
  {
   "cell_type": "markdown",
   "id": "07c4da24",
   "metadata": {},
   "source": [
    "### Analysis of the prices"
   ]
  },
  {
   "cell_type": "code",
   "execution_count": 243,
   "id": "afed40b9",
   "metadata": {},
   "outputs": [
    {
     "data": {
      "image/png": "[encoded data removed]",
      "text/plain": [
       "<Figure size 576x288 with 1 Axes>"
      ]
     },
     "metadata": {
      "needs_background": "light"
     },
     "output_type": "display_data"
    },
    {
     "name": "stdout",
     "output_type": "stream",
     "text": [
      "The overall median of the 90-day unit price between June 2022 and Mars 2023 was $75.0.\n"
     ]
    }
   ],
   "source": [
    "### get the mean value of the occupancy rates by batch date\n",
    "prices_by_batch = full_data_df.groupby(\"period\")[\"price_usd\"].median()\n",
    "\n",
    "# Plot the bar chat\n",
    "ax = prices_by_batch.plot.bar(figsize=(8,4),color=\"salmon\",legend=False)\n",
    "\n",
    "for i, value in enumerate(prices_by_batch):\n",
    "    ax.annotate(f\"\"\"{value:.0f}\"\"\", (i, value), ha='center', va='bottom')\n",
    "        \n",
    "ax.set_title(\"Median listing price by period\", fontsize=16)\n",
    "ax.set_xlabel(\"Period\")\n",
    "ax.set_ylabel(\"Price (USD)\")\n",
    "\n",
    "plt.ylim(0, 100)\n",
    "plt.xticks(rotation=0)\n",
    "\n",
    "plt.show();\n",
    "print(\"The overall median of the 90-day unit price between June 2022 and Mars 2023 was ${}.\".format(full_data_df[\"price_usd\"].median()))"
   ]
  },
  {
   "cell_type": "markdown",
   "id": "2ec4fd68",
   "metadata": {},
   "source": [
    "__Observations__: \n",
    "- The prices seem vary between the time of the year but without more historical data is impossible to determine if there is a trend here. \n",
    "- Price can also be related with other factors like location, number of bedrooms or if it is a superhost"
   ]
  },
  {
   "cell_type": "code",
   "execution_count": 222,
   "id": "084440e1",
   "metadata": {},
   "outputs": [
    {
     "data": {
      "text/plain": [
       "neighbourhood_group_cleansed\n",
       "TROFA                   120.0\n",
       "VALE DE CAMBRA          110.5\n",
       "GONDOMAR                100.0\n",
       "AROUCA                   99.0\n",
       "SANTO TIRSO              92.5\n",
       "PAREDES                  92.0\n",
       "VILA DO CONDE            80.0\n",
       "PÓVOA DE VARZIM          80.0\n",
       "ESPINHO                  75.0\n",
       "PORTO                    74.0\n",
       "SANTA MARIA DA FEIRA     70.0\n",
       "VILA NOVA DE GAIA        70.0\n",
       "VALONGO                  69.0\n",
       "MATOSINHOS               68.0\n",
       "MAIA                     65.0\n",
       "OLIVEIRA DE AZEMÉIS      60.0\n",
       "SÃO JOÃO DA MADEIRA      49.0\n",
       "Name: price_usd, dtype: float64"
      ]
     },
     "execution_count": 222,
     "metadata": {},
     "output_type": "execute_result"
    }
   ],
   "source": [
    "#Print the media unit price rate by caty for the 12-month period\n",
    "full_data_df.groupby(\"neighbourhood_group_cleansed\")[\"price_usd\"].median().sort_values(ascending=False)"
   ]
  },
  {
   "cell_type": "code",
   "execution_count": 232,
   "id": "d51aea57",
   "metadata": {},
   "outputs": [
    {
     "data": {
      "image/png": "[encoded data removed]",
      "text/plain": [
       "<Figure size 864x288 with 1 Axes>"
      ]
     },
     "metadata": {
      "needs_background": "light"
     },
     "output_type": "display_data"
    }
   ],
   "source": [
    "### get the mean value of the occupancy rates by batch date\n",
    "prices_by_bedrooms = full_data_df.groupby(\"bedrooms\")[\"price_usd\"].median()\n",
    "\n",
    "# Plot the bar chat\n",
    "ax = prices_by_bedrooms.plot.bar(figsize=(12,4),color=\"salmon\",legend=False)\n",
    "\n",
    "for i, value in enumerate(prices_by_bedrooms):\n",
    "    ax.annotate(f\"\"\"{value:.0f}\"\"\", (i, value), ha='center', va='bottom')\n",
    "        \n",
    "ax.set_title(\"Median listing price by number of bedrooms (2022 Q2 - 2023 Q1)\", fontsize=16)\n",
    "ax.set_xlabel(\"Number of bedrooms\")\n",
    "ax.set_ylabel(\"Price (USD)\")\n",
    "plt.ylim(0, 2000)\n",
    "plt.xticks(rotation=0)\n",
    "\n",
    "plt.show();"
   ]
  },
  {
   "cell_type": "markdown",
   "id": "4988c1ee",
   "metadata": {},
   "source": [
    "__Observation:__ As expected the median value unit price tends to increase with the number of bedrooms. There are two values that do not follow this trend but this can this can just be highly influence due to the small amout of listings for these categories. Example: "
   ]
  },
  {
   "cell_type": "code",
   "execution_count": 230,
   "id": "b4511692",
   "metadata": {},
   "outputs": [
    {
     "data": {
      "text/plain": [
       "bedrooms  calendar_last_scraped\n",
       "10.0      2022-06-01               5\n",
       "          2022-09-01               5\n",
       "          2022-12-01               4\n",
       "          2023-03-01               4\n",
       "dtype: int64"
      ]
     },
     "execution_count": 230,
     "metadata": {},
     "output_type": "execute_result"
    }
   ],
   "source": [
    "# Print number of units with 10 bedrooms by batch date\n",
    "full_data_df[full_data_df[\"bedrooms\"] == 10].groupby([\"bedrooms\", \"calendar_last_scraped\"]).size()"
   ]
  },
  {
   "cell_type": "code",
   "execution_count": 231,
   "id": "fed5ddc8",
   "metadata": {},
   "outputs": [
    {
     "data": {
      "text/plain": [
       "host_is_superhost\n",
       "f    71.0\n",
       "t    79.0\n",
       "Name: price_usd, dtype: float64"
      ]
     },
     "execution_count": 231,
     "metadata": {},
     "output_type": "execute_result"
    }
   ],
   "source": [
    "#Print the media unit price rate by city for the 12-month period\n",
    "full_data_df.groupby(\"host_is_superhost\")[\"price_usd\"].median()"
   ]
  },
  {
   "cell_type": "markdown",
   "id": "747bfc7b",
   "metadata": {},
   "source": [
    "__Observation__: Superhosts seem to have a slighty bigger median price per unit."
   ]
  },
  {
   "cell_type": "code",
   "execution_count": 241,
   "id": "61632ac9",
   "metadata": {},
   "outputs": [
    {
     "data": {
      "image/png": "[encoded data removed]",
      "text/plain": [
       "<Figure size 864x288 with 1 Axes>"
      ]
     },
     "metadata": {
      "needs_background": "light"
     },
     "output_type": "display_data"
    }
   ],
   "source": [
    "# get the mean value of the occupancy rates by batch date\n",
    "occ_rate_by_reviews = full_data_df.groupby(\"number_of_reviews\")[\"occupancy_rate_90\"].mean()\n",
    "\n",
    "# transform the nummeric value of number of reviews into categories \n",
    "occ_rate_by_reviews = occ_rate_by_reviews.sort_index()\n",
    "occ_rate_by_reviews = occ_rate_by_reviews.reset_index()\n",
    "\n",
    "bins = [0, 25, 50, 75, 100, 1000]\n",
    "labels = ['1-25', '26-50', '51-75', '76-100', '>100']\n",
    "\n",
    "occ_rate_by_reviews['number_of_reviews'] = pd.cut(occ_rate_by_reviews['number_of_reviews'], bins=bins, labels=labels)\n",
    "occ_rate_by_reviews['number_of_reviews'] = occ_rate_by_reviews['number_of_reviews'].astype(str).fillna(\"0\")\n",
    "\n",
    "# get the mean value of the occupancy rates by number of reviews\n",
    "occ_rate_by_reviews = occ_rate_by_reviews.groupby(\"number_of_reviews\")[\"occupancy_rate_90\"].mean().sort_index()\n",
    "\n",
    "# Plot the bar chat\n",
    "ax = occ_rate_by_reviews.plot.bar(figsize=(12,4),color=\"salmon\",legend=False)\n",
    "        \n",
    "ax.set_title(\"Mean occupancy rate by number of reviews (2022 Q2 - 2023 Q1)\", fontsize=16)\n",
    "ax.set_xlabel(\"Number of reviews per listing\")\n",
    "ax.set_ylabel(\"Fraction\")\n",
    "plt.xticks(rotation=0)\n",
    "\n",
    "plt.show();"
   ]
  },
  {
   "cell_type": "code",
   "execution_count": null,
   "id": "173696e8",
   "metadata": {},
   "outputs": [],
   "source": [
    "# see which other graphics could be used to show the distribution of the data (for example to see the outliers)"
   ]
  },
  {
   "cell_type": "code",
   "execution_count": null,
   "id": "227bae05",
   "metadata": {},
   "outputs": [],
   "source": [
    "# try and print the counts, listing and occupancy rates on a map using latitude and longitude"
   ]
  },
  {
   "cell_type": "markdown",
   "id": "7eff974b",
   "metadata": {},
   "source": [
    "## Status Quo 2023"
   ]
  },
  {
   "cell_type": "code",
   "execution_count": null,
   "id": "5ce43f08",
   "metadata": {},
   "outputs": [],
   "source": []
  }
 ],
 "metadata": {
  "kernelspec": {
   "display_name": "Python 3",
   "language": "python",
   "name": "python3"
  },
  "language_info": {
   "codemirror_mode": {
    "name": "ipython",
    "version": 3
   },
   "file_extension": ".py",
   "mimetype": "text/x-python",
   "name": "python",
   "nbconvert_exporter": "python",
   "pygments_lexer": "ipython3",
   "version": "3.8.8"
  }
 },
 "nbformat": 4,
 "nbformat_minor": 5
}
